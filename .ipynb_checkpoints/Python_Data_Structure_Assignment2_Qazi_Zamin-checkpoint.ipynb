{
 "cells": [
  {
   "cell_type": "markdown",
   "metadata": {},
   "source": [
    "# Python - Data Structure\n",
    "## Assignment 2\n",
    "## Qazi Zamin\n",
    "## PWskills"
   ]
  },
  {
   "cell_type": "markdown",
   "metadata": {},
   "source": [
    "### Q1) Discuss string slicing and provide examples."
   ]
  },
  {
   "cell_type": "markdown",
   "metadata": {},
   "source": [
    "- string slicing in Python allows us to extract substrings from a string by specifying start and end indices. The syntax for string slicing is: string[start_index:end_index:step].\n",
    ". start_index : The index at which the slicing begins. It is inclusive, which means the character at this index will be included in the sliced result.\n",
    ". end_index: The index at which the slicing ends. It is exclusive, meaning the character at this index will not be included in the sliced result.\n",
    ". step (optional): Specifies the increment between characters to include in the sliced result. The default value is 1, but you can use negative values to slice the string in reverse.\n",
    "\n",
    "Below are some examples to illustrate string slicing:"
   ]
  },
  {
   "cell_type": "code",
   "execution_count": 6,
   "metadata": {},
   "outputs": [
    {
     "data": {
      "text/plain": [
       "'i am a very good student'"
      ]
     },
     "execution_count": 6,
     "metadata": {},
     "output_type": "execute_result"
    }
   ],
   "source": [
    "# examples from the string1\n",
    "\n",
    "string1 = \"i am a very good student\"\n",
    "string1"
   ]
  },
  {
   "cell_type": "code",
   "execution_count": 7,
   "metadata": {},
   "outputs": [
    {
     "data": {
      "text/plain": [
       "24"
      ]
     },
     "execution_count": 7,
     "metadata": {},
     "output_type": "execute_result"
    }
   ],
   "source": [
    "len(string1)"
   ]
  },
  {
   "cell_type": "code",
   "execution_count": 5,
   "metadata": {},
   "outputs": [
    {
     "data": {
      "text/plain": [
       "'i am a very'"
      ]
     },
     "execution_count": 5,
     "metadata": {},
     "output_type": "execute_result"
    }
   ],
   "source": [
    "# lets say we want to extract 'i am a very' from the above string , we use slicing\n",
    "\n",
    "string1[0:11]"
   ]
  },
  {
   "cell_type": "code",
   "execution_count": 9,
   "metadata": {},
   "outputs": [
    {
     "data": {
      "text/plain": [
       "'a very good'"
      ]
     },
     "execution_count": 9,
     "metadata": {},
     "output_type": "execute_result"
    }
   ],
   "source": [
    "# now the string is of 24 characters in total, lets say we want to extract from index 5 to index 15\n",
    "\n",
    "string1[5:16]     # 16 will not be included"
   ]
  },
  {
   "cell_type": "code",
   "execution_count": 10,
   "metadata": {},
   "outputs": [
    {
     "data": {
      "text/plain": [
       "'i am a very good student'"
      ]
     },
     "execution_count": 10,
     "metadata": {},
     "output_type": "execute_result"
    }
   ],
   "source": [
    "# to return whole string using slicing\n",
    "\n",
    "string1[0:]"
   ]
  },
  {
   "cell_type": "code",
   "execution_count": 11,
   "metadata": {},
   "outputs": [
    {
     "data": {
      "text/plain": [
       "'i am a very good '"
      ]
     },
     "execution_count": 11,
     "metadata": {},
     "output_type": "execute_result"
    }
   ],
   "source": [
    "# now if we want all the characters except last 7 characters\n",
    "\n",
    "string1[:-7]"
   ]
  },
  {
   "cell_type": "code",
   "execution_count": 12,
   "metadata": {},
   "outputs": [
    {
     "data": {
      "text/plain": [
       "'student'"
      ]
     },
     "execution_count": 12,
     "metadata": {},
     "output_type": "execute_result"
    }
   ],
   "source": [
    "# and if we want last 7 characters only\n",
    "\n",
    "string1[-7:]"
   ]
  },
  {
   "cell_type": "code",
   "execution_count": 13,
   "metadata": {},
   "outputs": [
    {
     "data": {
      "text/plain": [
       "'ia  eygo tdn'"
      ]
     },
     "execution_count": 13,
     "metadata": {},
     "output_type": "execute_result"
    }
   ],
   "source": [
    "# if we want to return alternate characters from beginning to end\n",
    "\n",
    "string1[::2]        # we are keeping start and end empty and giving step by 2, (by default step is 1)"
   ]
  },
  {
   "cell_type": "code",
   "execution_count": 15,
   "metadata": {},
   "outputs": [
    {
     "data": {
      "text/plain": [
       "'tneduts doog yrev a ma i'"
      ]
     },
     "execution_count": 15,
     "metadata": {},
     "output_type": "execute_result"
    }
   ],
   "source": [
    "# if we want a reverse of this string of the above example\n",
    "\n",
    "string1[::-1]        # we are keeping start and end empty and giving step by -1, which will return the whole string from end to beginning"
   ]
  },
  {
   "cell_type": "code",
   "execution_count": 16,
   "metadata": {},
   "outputs": [],
   "source": [
    "# like this we can do a lot with the help of string slicing"
   ]
  },
  {
   "cell_type": "code",
   "execution_count": null,
   "metadata": {},
   "outputs": [],
   "source": []
  },
  {
   "cell_type": "markdown",
   "metadata": {},
   "source": [
    "### Q2) Explain the key features of lists in python."
   ]
  },
  {
   "cell_type": "markdown",
   "metadata": {},
   "source": [
    "- Lists in Python are incredibly versatile and one of the most commonly used data structures. the key features of list in python include: ordered collection of items, list is a mutable data structure, list can hold all types of data (heterogenous nature) , length of the list can be changed (Dynamic sizing), Accessing elements is easy, iterability, common operations."
   ]
  },
  {
   "cell_type": "markdown",
   "metadata": {},
   "source": [
    "- ORDERED COLLECTION : Lists are ordered collections of items. This means that the items in a list maintain their order, and you can access them by their position or index."
   ]
  },
  {
   "cell_type": "code",
   "execution_count": 17,
   "metadata": {},
   "outputs": [
    {
     "data": {
      "text/plain": [
       "[1, 2, 3, 5, 8, 'apple']"
      ]
     },
     "execution_count": 17,
     "metadata": {},
     "output_type": "execute_result"
    }
   ],
   "source": [
    "# ORDERED COLLECTION\n",
    "\n",
    "l = [1,2,3,5,8,'apple']\n",
    "l"
   ]
  },
  {
   "cell_type": "code",
   "execution_count": 18,
   "metadata": {},
   "outputs": [
    {
     "data": {
      "text/plain": [
       "'apple'"
      ]
     },
     "execution_count": 18,
     "metadata": {},
     "output_type": "execute_result"
    }
   ],
   "source": [
    "# as per i have placed them into the list , same way it returned after execution\n",
    "# now as per indexing 'apple' lies at 5th index in the list, so let's access it.\n",
    "\n",
    "l[5]"
   ]
  },
  {
   "cell_type": "markdown",
   "metadata": {},
   "source": [
    "- Mutablility: Lists are mutable, meaning you can change, add, or remove elements after the list has been created."
   ]
  },
  {
   "cell_type": "code",
   "execution_count": 20,
   "metadata": {},
   "outputs": [
    {
     "data": {
      "text/plain": [
       "[1, 2, 3, 5, 8, 'apple']"
      ]
     },
     "execution_count": 20,
     "metadata": {},
     "output_type": "execute_result"
    }
   ],
   "source": [
    "# MUTABILITY\n",
    "\n",
    "l"
   ]
  },
  {
   "cell_type": "code",
   "execution_count": 21,
   "metadata": {},
   "outputs": [],
   "source": [
    "# lets change '1' to 'banana'\n",
    "\n",
    "l[0] = 'banana'"
   ]
  },
  {
   "cell_type": "code",
   "execution_count": 22,
   "metadata": {},
   "outputs": [
    {
     "data": {
      "text/plain": [
       "['banana', 2, 3, 5, 8, 'apple']"
      ]
     },
     "execution_count": 22,
     "metadata": {},
     "output_type": "execute_result"
    }
   ],
   "source": [
    "l             # 1 is modified to 'banana'"
   ]
  },
  {
   "cell_type": "code",
   "execution_count": 23,
   "metadata": {},
   "outputs": [],
   "source": [
    "# let's add an element 'carrot' to the end of the list\n",
    "\n",
    "l.append('carrot')"
   ]
  },
  {
   "cell_type": "code",
   "execution_count": 24,
   "metadata": {},
   "outputs": [
    {
     "data": {
      "text/plain": [
       "['banana', 2, 3, 5, 8, 'apple', 'carrot']"
      ]
     },
     "execution_count": 24,
     "metadata": {},
     "output_type": "execute_result"
    }
   ],
   "source": [
    "l"
   ]
  },
  {
   "cell_type": "code",
   "execution_count": 25,
   "metadata": {},
   "outputs": [],
   "source": [
    "# let's remove 'apple' \n",
    "\n",
    "l.remove(\"apple\")"
   ]
  },
  {
   "cell_type": "code",
   "execution_count": 26,
   "metadata": {},
   "outputs": [
    {
     "data": {
      "text/plain": [
       "['banana', 2, 3, 5, 8, 'carrot']"
      ]
     },
     "execution_count": 26,
     "metadata": {},
     "output_type": "execute_result"
    }
   ],
   "source": [
    "l"
   ]
  },
  {
   "cell_type": "markdown",
   "metadata": {},
   "source": [
    "- Heterogeneous Elements: Lists can contain elements of different data types. You can have integers, strings, floats, or even other lists as elements within a single list."
   ]
  },
  {
   "cell_type": "code",
   "execution_count": 28,
   "metadata": {},
   "outputs": [
    {
     "data": {
      "text/plain": [
       "list"
      ]
     },
     "execution_count": 28,
     "metadata": {},
     "output_type": "execute_result"
    }
   ],
   "source": [
    "# HETEROGENEOUS ELEMENTS\n",
    "\n",
    "l1 = [1,2.2,3+7j,\"abc\",True]\n",
    "type(l1)                         # hence the type proves that it is a list which is containing different data types"
   ]
  },
  {
   "cell_type": "markdown",
   "metadata": {},
   "source": [
    "- Dynamic Sizing: Lists in Python are dynamic in size, meaning they can grow or shrink as needed. You can append elements to the end of a list, insert elements at specific positions, or remove elements from the list."
   ]
  },
  {
   "cell_type": "code",
   "execution_count": 29,
   "metadata": {},
   "outputs": [
    {
     "data": {
      "text/plain": [
       "[1, 2, 'apple', 3.14]"
      ]
     },
     "execution_count": 29,
     "metadata": {},
     "output_type": "execute_result"
    }
   ],
   "source": [
    "# DYNAMIC SIZING\n",
    "\n",
    "my_list = [1, 2, \"apple\", 3.14]\n",
    "my_list"
   ]
  },
  {
   "cell_type": "code",
   "execution_count": 31,
   "metadata": {},
   "outputs": [],
   "source": [
    "# add an element\n",
    "\n",
    "my_list.append(\"TIGER\")"
   ]
  },
  {
   "cell_type": "code",
   "execution_count": 32,
   "metadata": {},
   "outputs": [
    {
     "data": {
      "text/plain": [
       "[1, 2, 'apple', 3.14, 6, 'TIGER']"
      ]
     },
     "execution_count": 32,
     "metadata": {},
     "output_type": "execute_result"
    }
   ],
   "source": [
    "my_list"
   ]
  },
  {
   "cell_type": "code",
   "execution_count": 33,
   "metadata": {},
   "outputs": [],
   "source": [
    "# REMOVING ELEMENT\n",
    "my_list.remove(\"apple\")"
   ]
  },
  {
   "cell_type": "code",
   "execution_count": 34,
   "metadata": {},
   "outputs": [
    {
     "data": {
      "text/plain": [
       "[1, 2, 3.14, 6, 'TIGER']"
      ]
     },
     "execution_count": 34,
     "metadata": {},
     "output_type": "execute_result"
    }
   ],
   "source": [
    "my_list"
   ]
  },
  {
   "cell_type": "markdown",
   "metadata": {},
   "source": [
    "- Accessing Elements: You can access elements in a list using indexing and slicing. Slicing allows you to extract a subset of elements from the list."
   ]
  },
  {
   "cell_type": "code",
   "execution_count": 35,
   "metadata": {},
   "outputs": [
    {
     "data": {
      "text/plain": [
       "[1, 2, 3.14, 6, 'TIGER']"
      ]
     },
     "execution_count": 35,
     "metadata": {},
     "output_type": "execute_result"
    }
   ],
   "source": [
    "# ACCESSING ELEMENTS\n",
    "\n",
    "my_list"
   ]
  },
  {
   "cell_type": "code",
   "execution_count": 36,
   "metadata": {},
   "outputs": [
    {
     "data": {
      "text/plain": [
       "'TIGER'"
      ]
     },
     "execution_count": 36,
     "metadata": {},
     "output_type": "execute_result"
    }
   ],
   "source": [
    "# ACCESS TIGER\n",
    "\n",
    "my_list[-1]  # by negative indexing"
   ]
  },
  {
   "cell_type": "code",
   "execution_count": 37,
   "metadata": {},
   "outputs": [
    {
     "data": {
      "text/plain": [
       "'TIGER'"
      ]
     },
     "execution_count": 37,
     "metadata": {},
     "output_type": "execute_result"
    }
   ],
   "source": [
    "my_list[4]   # by positive indexing"
   ]
  },
  {
   "cell_type": "markdown",
   "metadata": {},
   "source": [
    "- Iterability: Lists can be iterated over using loops, making it easy to perform operations on each element of the list."
   ]
  },
  {
   "cell_type": "code",
   "execution_count": 38,
   "metadata": {},
   "outputs": [
    {
     "data": {
      "text/plain": [
       "[1, 2, 3.14, 6, 'TIGER']"
      ]
     },
     "execution_count": 38,
     "metadata": {},
     "output_type": "execute_result"
    }
   ],
   "source": [
    "my_list"
   ]
  },
  {
   "cell_type": "code",
   "execution_count": 39,
   "metadata": {},
   "outputs": [
    {
     "name": "stdout",
     "output_type": "stream",
     "text": [
      "1\n",
      "2\n",
      "3.14\n",
      "6\n",
      "TIGER\n"
     ]
    }
   ],
   "source": [
    "for item in my_list:\n",
    "    print(item)"
   ]
  },
  {
   "cell_type": "markdown",
   "metadata": {},
   "source": [
    "- Common Operations: Lists support various operations such as concatenation, repetition, membership testing, finding the length, sorting, and more."
   ]
  },
  {
   "cell_type": "code",
   "execution_count": 40,
   "metadata": {},
   "outputs": [],
   "source": [
    "# FINDING LENGTH\n",
    "\n",
    "l1 = [1,2,3,90,'smv','ball',True]"
   ]
  },
  {
   "cell_type": "code",
   "execution_count": 41,
   "metadata": {},
   "outputs": [
    {
     "data": {
      "text/plain": [
       "7"
      ]
     },
     "execution_count": 41,
     "metadata": {},
     "output_type": "execute_result"
    }
   ],
   "source": [
    "len(l1)"
   ]
  },
  {
   "cell_type": "code",
   "execution_count": 42,
   "metadata": {},
   "outputs": [
    {
     "data": {
      "text/plain": [
       "[1, 2, 3, 90, 'smv', 'ball', True]"
      ]
     },
     "execution_count": 42,
     "metadata": {},
     "output_type": "execute_result"
    }
   ],
   "source": [
    "# MEMBERSHIP IN, NOT IN\n",
    "\n",
    "l1"
   ]
  },
  {
   "cell_type": "code",
   "execution_count": 43,
   "metadata": {},
   "outputs": [
    {
     "data": {
      "text/plain": [
       "True"
      ]
     },
     "execution_count": 43,
     "metadata": {},
     "output_type": "execute_result"
    }
   ],
   "source": [
    "3 in l1"
   ]
  },
  {
   "cell_type": "code",
   "execution_count": 44,
   "metadata": {},
   "outputs": [
    {
     "data": {
      "text/plain": [
       "False"
      ]
     },
     "execution_count": 44,
     "metadata": {},
     "output_type": "execute_result"
    }
   ],
   "source": [
    "3 not in l1"
   ]
  },
  {
   "cell_type": "code",
   "execution_count": 50,
   "metadata": {},
   "outputs": [
    {
     "data": {
      "text/plain": [
       "[1, 2, 3, 45, 78, 90, 121]"
      ]
     },
     "execution_count": 50,
     "metadata": {},
     "output_type": "execute_result"
    }
   ],
   "source": [
    "# sorting\n",
    "\n",
    "l1 = [1, 2, 3, 90, 78, 45, 121]\n",
    "sorted(l1)"
   ]
  },
  {
   "cell_type": "code",
   "execution_count": null,
   "metadata": {},
   "outputs": [],
   "source": []
  },
  {
   "cell_type": "markdown",
   "metadata": {},
   "source": [
    "### Q3) Describe how to access , modify and delete elements in a list with examples."
   ]
  },
  {
   "cell_type": "markdown",
   "metadata": {},
   "source": [
    "- Accessing Elements: You can access elements in a list using indexing and slicing. Slicing allows you to extract a subset of elements from the list.\n",
    "\n",
    "- Indexing: You can access individual elements in a list by specifying their position, or index, within square brackets. Python uses zero-based indexing, meaning the index of the first element is 0, the second element is 1, and so on. You can also use negative indexing, where -1 refers to the last element, -2 refers to the second last element, and so forth.\n",
    "\n",
    "- Slicing: You can extract a sublist, or slice, from a list by specifying a range of indices separated by a colon [:]. The slice will include elements from the start index up to, but not including, the end index. If you omit the start index, Python assumes it as 0, and if you omit the end index, Python assumes it as the length of the list.\n",
    "\n",
    "- Step Size: You can specify a step size when slicing a list, which determines the interval between elements in the resulting slice."
   ]
  },
  {
   "cell_type": "code",
   "execution_count": 51,
   "metadata": {},
   "outputs": [
    {
     "data": {
      "text/plain": [
       "[1, 90, 'elephant', 'dog', True, 5.98]"
      ]
     },
     "execution_count": 51,
     "metadata": {},
     "output_type": "execute_result"
    }
   ],
   "source": [
    "# ACCESSING ELEMENTS BY INDEXING\n",
    "\n",
    "list1 = [1,90,'elephant','dog',True, 5.98]\n",
    "\n",
    "list1"
   ]
  },
  {
   "cell_type": "code",
   "execution_count": 52,
   "metadata": {},
   "outputs": [
    {
     "data": {
      "text/plain": [
       "'dog'"
      ]
     },
     "execution_count": 52,
     "metadata": {},
     "output_type": "execute_result"
    }
   ],
   "source": [
    "# positive indexing\n",
    "\n",
    "list1[3]"
   ]
  },
  {
   "cell_type": "code",
   "execution_count": 54,
   "metadata": {},
   "outputs": [
    {
     "data": {
      "text/plain": [
       "'elephant'"
      ]
     },
     "execution_count": 54,
     "metadata": {},
     "output_type": "execute_result"
    }
   ],
   "source": [
    "# negative indexing\n",
    "\n",
    "list1[-4]"
   ]
  },
  {
   "cell_type": "code",
   "execution_count": null,
   "metadata": {},
   "outputs": [],
   "source": [
    "######################################################################################"
   ]
  },
  {
   "cell_type": "code",
   "execution_count": 55,
   "metadata": {},
   "outputs": [
    {
     "data": {
      "text/plain": [
       "['bike', 'car', 'bus', 'train']"
      ]
     },
     "execution_count": 55,
     "metadata": {},
     "output_type": "execute_result"
    }
   ],
   "source": [
    "# ACCESSING ELEMENTS BY SLICING\n",
    "\n",
    "list_vehicle = ['bike','car','bus','train']\n",
    "\n",
    "list_vehicle"
   ]
  },
  {
   "cell_type": "code",
   "execution_count": 56,
   "metadata": {},
   "outputs": [
    {
     "data": {
      "text/plain": [
       "['bike', 'car', 'bus']"
      ]
     },
     "execution_count": 56,
     "metadata": {},
     "output_type": "execute_result"
    }
   ],
   "source": [
    "# get first 3 elements\n",
    "\n",
    "list_vehicle[0:3]    # 3 will be excluded"
   ]
  },
  {
   "cell_type": "code",
   "execution_count": 57,
   "metadata": {},
   "outputs": [
    {
     "data": {
      "text/plain": [
       "['bus', 'train']"
      ]
     },
     "execution_count": 57,
     "metadata": {},
     "output_type": "execute_result"
    }
   ],
   "source": [
    "# get last 2 elements\n",
    "\n",
    "list_vehicle[2:4] "
   ]
  },
  {
   "cell_type": "code",
   "execution_count": 58,
   "metadata": {},
   "outputs": [
    {
     "data": {
      "text/plain": [
       "['bike', 'car']"
      ]
     },
     "execution_count": 58,
     "metadata": {},
     "output_type": "execute_result"
    }
   ],
   "source": [
    "# get first 2 by negative slicing\n",
    "\n",
    "list_vehicle[:-2]"
   ]
  },
  {
   "cell_type": "code",
   "execution_count": 59,
   "metadata": {},
   "outputs": [
    {
     "data": {
      "text/plain": [
       "['car', 'bus', 'train']"
      ]
     },
     "execution_count": 59,
     "metadata": {},
     "output_type": "execute_result"
    }
   ],
   "source": [
    "# get last 3 by negative slicing\n",
    "\n",
    "list_vehicle[-3:]"
   ]
  },
  {
   "cell_type": "code",
   "execution_count": null,
   "metadata": {},
   "outputs": [],
   "source": []
  },
  {
   "cell_type": "code",
   "execution_count": 60,
   "metadata": {},
   "outputs": [],
   "source": [
    "# ACCESSING BY STEP SIZE\n",
    "\n",
    "state_list = ['delhi','punjab','karnataka','maharashtra','up','hp','bihar','jammu and kashmir']"
   ]
  },
  {
   "cell_type": "code",
   "execution_count": 61,
   "metadata": {},
   "outputs": [
    {
     "data": {
      "text/plain": [
       "['delhi', 'karnataka', 'up', 'bihar']"
      ]
     },
     "execution_count": 61,
     "metadata": {},
     "output_type": "execute_result"
    }
   ],
   "source": [
    "# get alternate states from the list \n",
    "\n",
    "state_list[::2]   # simply leave the start and end index empty and give step by 2"
   ]
  },
  {
   "cell_type": "markdown",
   "metadata": {},
   "source": [
    "- Modifying elements in a list in Python is quite flexible because lists are mutable, meaning you can change their elements after the list has been created. You can modify elements in a list by some of these functions:\n",
    "\n",
    "- Direct Assignment: You can directly assign a new value to a specific index in the list to modify that element.\n",
    "\n",
    "- Append and Extend: You can add new elements to the end of the list using the append() method, or you can extend the list by appending another list using the extend() method.\n",
    "\n",
    "- Insert: You can insert a new element at a specific index using the insert() method.\n",
    "\n",
    "- Concatenate : add two lists together"
   ]
  },
  {
   "cell_type": "code",
   "execution_count": 62,
   "metadata": {},
   "outputs": [
    {
     "data": {
      "text/plain": [
       "['apple', 'samsung', 'macbook', 'airpods', 'ipad']"
      ]
     },
     "execution_count": 62,
     "metadata": {},
     "output_type": "execute_result"
    }
   ],
   "source": [
    "# DIRECT ASSIGNMENT\n",
    "\n",
    "my_list = [\"apple\",\"samsung\",\"macbook\",\"airpods\",\"ipad\"]\n",
    "my_list"
   ]
  },
  {
   "cell_type": "code",
   "execution_count": 63,
   "metadata": {},
   "outputs": [
    {
     "data": {
      "text/plain": [
       "'samsung'"
      ]
     },
     "execution_count": 63,
     "metadata": {},
     "output_type": "execute_result"
    }
   ],
   "source": [
    "# change samsung to iphone by direct assignment, for that access the samsung first\n",
    "\n",
    "my_list[1]"
   ]
  },
  {
   "cell_type": "code",
   "execution_count": 64,
   "metadata": {},
   "outputs": [],
   "source": [
    "my_list[1] = \"iphone\"          # direct assignment"
   ]
  },
  {
   "cell_type": "code",
   "execution_count": 65,
   "metadata": {},
   "outputs": [
    {
     "data": {
      "text/plain": [
       "['apple', 'iphone', 'macbook', 'airpods', 'ipad']"
      ]
     },
     "execution_count": 65,
     "metadata": {},
     "output_type": "execute_result"
    }
   ],
   "source": [
    "my_list"
   ]
  },
  {
   "cell_type": "code",
   "execution_count": null,
   "metadata": {},
   "outputs": [],
   "source": []
  },
  {
   "cell_type": "code",
   "execution_count": 66,
   "metadata": {},
   "outputs": [],
   "source": [
    "# APPEND()\n",
    "\n",
    "my_list = [\"apple\",\"samsung\",\"macbook\",\"airpods\",\"ipad\"]"
   ]
  },
  {
   "cell_type": "code",
   "execution_count": 67,
   "metadata": {},
   "outputs": [],
   "source": [
    "# ADD AN ELEMENT \"i-watch\" TO THE END OF THE LIST\n",
    "\n",
    "my_list.append(\"i-watch\")       # append adds elements to the end"
   ]
  },
  {
   "cell_type": "code",
   "execution_count": 68,
   "metadata": {},
   "outputs": [
    {
     "data": {
      "text/plain": [
       "['apple', 'samsung', 'macbook', 'airpods', 'ipad', 'i-watch']"
      ]
     },
     "execution_count": 68,
     "metadata": {},
     "output_type": "execute_result"
    }
   ],
   "source": [
    "my_list"
   ]
  },
  {
   "cell_type": "code",
   "execution_count": 69,
   "metadata": {},
   "outputs": [],
   "source": [
    "# EXTEND()\n",
    "\n",
    "my_list = ['ice cream','cold drinks','chips','biscuits']\n",
    "home_list = ['tomato','onion','chicken','garlic paste','sauce']\n",
    "\n",
    "my_list.extend(home_list)         # homelist is now added to my list / my list has been extended by homelist"
   ]
  },
  {
   "cell_type": "code",
   "execution_count": 70,
   "metadata": {},
   "outputs": [
    {
     "data": {
      "text/plain": [
       "['ice cream',\n",
       " 'cold drinks',\n",
       " 'chips',\n",
       " 'biscuits',\n",
       " 'tomato',\n",
       " 'onion',\n",
       " 'chicken',\n",
       " 'garlic paste',\n",
       " 'sauce']"
      ]
     },
     "execution_count": 70,
     "metadata": {},
     "output_type": "execute_result"
    }
   ],
   "source": [
    "my_list"
   ]
  },
  {
   "cell_type": "code",
   "execution_count": null,
   "metadata": {},
   "outputs": [],
   "source": []
  },
  {
   "cell_type": "code",
   "execution_count": 71,
   "metadata": {},
   "outputs": [
    {
     "data": {
      "text/plain": [
       "['tomato', 'onion', 'chicken', 'garlic paste', 'sauce']"
      ]
     },
     "execution_count": 71,
     "metadata": {},
     "output_type": "execute_result"
    }
   ],
   "source": [
    "# INSERT ()\n",
    "\n",
    "home_list = ['tomato','onion','chicken','garlic paste','sauce']\n",
    "home_list"
   ]
  },
  {
   "cell_type": "code",
   "execution_count": 72,
   "metadata": {},
   "outputs": [],
   "source": [
    "# add potato right after tomato\n",
    "\n",
    "home_list.insert(1,\"potato\")           # it will add potato to the list at the index of 1"
   ]
  },
  {
   "cell_type": "code",
   "execution_count": 73,
   "metadata": {},
   "outputs": [
    {
     "data": {
      "text/plain": [
       "['tomato', 'potato', 'onion', 'chicken', 'garlic paste', 'sauce']"
      ]
     },
     "execution_count": 73,
     "metadata": {},
     "output_type": "execute_result"
    }
   ],
   "source": [
    "home_list"
   ]
  },
  {
   "cell_type": "code",
   "execution_count": null,
   "metadata": {},
   "outputs": [],
   "source": []
  },
  {
   "cell_type": "code",
   "execution_count": 74,
   "metadata": {},
   "outputs": [
    {
     "data": {
      "text/plain": [
       "['abc', 'def', 'ghi', 123, 456, 789]"
      ]
     },
     "execution_count": 74,
     "metadata": {},
     "output_type": "execute_result"
    }
   ],
   "source": [
    "# CONCATENATE\n",
    "\n",
    "list1 = [\"abc\",\"def\",\"ghi\"]\n",
    "list2 = [123,456,789]\n",
    "\n",
    "list1 + list2                        # concatenating by + operator"
   ]
  },
  {
   "cell_type": "markdown",
   "metadata": {},
   "source": [
    "- To delete elements in a list in Python, you have several options depending on what exactly you want to achieve:\n",
    "\n",
    "\n",
    "\n",
    "- Using del statement: You can use the del statement followed by the element's index to delete it from the list.\n",
    "\n",
    "- Using remove() method: If you know the value of the element you want to remove but not its index, you can use the remove() method.\n",
    "\n",
    "- Using pop() method: If you want to remove an element by its index and also want to do something with that element, you can use the pop() method. If you call pop() without any argument, it removes and returns the last element of the list.\n"
   ]
  },
  {
   "cell_type": "code",
   "execution_count": 75,
   "metadata": {},
   "outputs": [],
   "source": [
    "# USING DEL STATEMENT\n",
    "\n",
    "# Create a list\n",
    "my_list = [1, 2, 3, 4, 5]\n",
    "\n",
    "# Delete element at index 2\n",
    "del my_list[2]"
   ]
  },
  {
   "cell_type": "code",
   "execution_count": 76,
   "metadata": {},
   "outputs": [
    {
     "data": {
      "text/plain": [
       "[1, 2, 4, 5]"
      ]
     },
     "execution_count": 76,
     "metadata": {},
     "output_type": "execute_result"
    }
   ],
   "source": [
    "my_list"
   ]
  },
  {
   "cell_type": "code",
   "execution_count": 77,
   "metadata": {},
   "outputs": [],
   "source": [
    "# USING REMOVE() METHOD\n",
    "\n",
    "home_list = ['tomato','onion','chicken','garlic paste','sauce']\n",
    "\n",
    "home_list.remove('tomato')"
   ]
  },
  {
   "cell_type": "code",
   "execution_count": 78,
   "metadata": {},
   "outputs": [
    {
     "data": {
      "text/plain": [
       "['onion', 'chicken', 'garlic paste', 'sauce']"
      ]
     },
     "execution_count": 78,
     "metadata": {},
     "output_type": "execute_result"
    }
   ],
   "source": [
    "home_list"
   ]
  },
  {
   "cell_type": "code",
   "execution_count": 80,
   "metadata": {},
   "outputs": [
    {
     "data": {
      "text/plain": [
       "'sauce'"
      ]
     },
     "execution_count": 80,
     "metadata": {},
     "output_type": "execute_result"
    }
   ],
   "source": [
    "#  USING POP() METHOD\n",
    "\n",
    "home_list = ['tomato','onion','chicken','garlic paste','sauce'] # by default pop() removes the last element\n",
    "home_list.pop()"
   ]
  },
  {
   "cell_type": "code",
   "execution_count": 81,
   "metadata": {},
   "outputs": [
    {
     "data": {
      "text/plain": [
       "['tomato', 'onion', 'chicken', 'garlic paste']"
      ]
     },
     "execution_count": 81,
     "metadata": {},
     "output_type": "execute_result"
    }
   ],
   "source": [
    "home_list"
   ]
  },
  {
   "cell_type": "code",
   "execution_count": 82,
   "metadata": {},
   "outputs": [
    {
     "data": {
      "text/plain": [
       "'chicken'"
      ]
     },
     "execution_count": 82,
     "metadata": {},
     "output_type": "execute_result"
    }
   ],
   "source": [
    "home_list.pop(2)    # pop(2) will remove element with index value of 2"
   ]
  },
  {
   "cell_type": "code",
   "execution_count": 83,
   "metadata": {},
   "outputs": [
    {
     "data": {
      "text/plain": [
       "['tomato', 'onion', 'garlic paste']"
      ]
     },
     "execution_count": 83,
     "metadata": {},
     "output_type": "execute_result"
    }
   ],
   "source": [
    "home_list"
   ]
  },
  {
   "cell_type": "code",
   "execution_count": null,
   "metadata": {},
   "outputs": [],
   "source": []
  },
  {
   "cell_type": "markdown",
   "metadata": {},
   "source": [
    "### Q4) Compare and contrast tuples and lists with examples."
   ]
  },
  {
   "cell_type": "markdown",
   "metadata": {},
   "source": [
    "- A TUPLE in Python is an immutable ordered collection of elements. Once created, the elements within a tuple cannot be changed, added, or removed. Tuples are defined using parentheses () and can contain elements of any data type, including other tuples.\n",
    "\n",
    "\n",
    "- A LIST in Python is a mutable, ordered collection of elements. It allows you to store and manipulate multiple items in a single variable. Lists are defined using square brackets [] and can contain elements of different data types, including other lists.\n",
    "\n",
    "\n",
    "- so let's compare and contrast tuples and lists:\n",
    "\n",
    "\n",
    "- Mutability:\n",
    "- Lists: Lists are mutable, which means you can add, remove, or modify elements after the list is created.\n",
    "- Tuples: Tuples are immutable, meaning once a tuple is created, you cannot change its contents.\n",
    "\n",
    "\n",
    "- Syntax:\n",
    "- Lists: Lists are created using square brackets [ ].\n",
    "- Tuples: Tuples are created using parentheses ( ).\n",
    "\n",
    "\n",
    "- Performance:\n",
    "- Lists: Lists are generally slower than tuples, especially for large collections, because lists require more memory allocation due to their mutability.\n",
    "- Tuples: Tuples are more memory efficient and faster than lists, especially for simple operations, because they are immutable.\n",
    "\n",
    "\n",
    "- Iteration:\n",
    "- Lists: Lists support iteration using loops or list comprehensions.\n",
    "- Tuples: Tuples also support iteration in the same way as lists.\n",
    "\n",
    "\n",
    "- Use Cases:\n",
    "- Lists: Lists are commonly used when you need a collection of elements that may change over time, or when you need to perform operations like appending, removing, or sorting elements.\n",
    "- Tuples: Tuples are commonly used when you want to store a fixed collection of elements, especially when the order and number of elements are known and won't change."
   ]
  },
  {
   "cell_type": "code",
   "execution_count": 85,
   "metadata": {},
   "outputs": [
    {
     "data": {
      "text/plain": [
       "list"
      ]
     },
     "execution_count": 85,
     "metadata": {},
     "output_type": "execute_result"
    }
   ],
   "source": [
    "# SYNTAX:\n",
    "\n",
    "# LIST:\n",
    "\n",
    "lis = [1,2,3,4]\n",
    "type(lis)"
   ]
  },
  {
   "cell_type": "code",
   "execution_count": 86,
   "metadata": {},
   "outputs": [
    {
     "data": {
      "text/plain": [
       "tuple"
      ]
     },
     "execution_count": 86,
     "metadata": {},
     "output_type": "execute_result"
    }
   ],
   "source": [
    "# TUPLE\n",
    "\n",
    "tup = (1,2,3,4)\n",
    "type(tup)"
   ]
  },
  {
   "cell_type": "code",
   "execution_count": 87,
   "metadata": {},
   "outputs": [
    {
     "data": {
      "text/plain": [
       "1"
      ]
     },
     "execution_count": 87,
     "metadata": {},
     "output_type": "execute_result"
    }
   ],
   "source": [
    "# MUTABILITY\n",
    "\n",
    "# LIST (list is mutable)\n",
    "\n",
    "lis = [1,2,3,4]\n",
    "lis[0]"
   ]
  },
  {
   "cell_type": "code",
   "execution_count": 88,
   "metadata": {},
   "outputs": [],
   "source": [
    "lis[0] = \"a\"         # changing an element"
   ]
  },
  {
   "cell_type": "code",
   "execution_count": 89,
   "metadata": {},
   "outputs": [
    {
     "data": {
      "text/plain": [
       "['a', 2, 3, 4]"
      ]
     },
     "execution_count": 89,
     "metadata": {},
     "output_type": "execute_result"
    }
   ],
   "source": [
    "lis"
   ]
  },
  {
   "cell_type": "code",
   "execution_count": 90,
   "metadata": {},
   "outputs": [
    {
     "data": {
      "text/plain": [
       "1"
      ]
     },
     "execution_count": 90,
     "metadata": {},
     "output_type": "execute_result"
    }
   ],
   "source": [
    "# TUPLE (tuple is immutable)\n",
    "\n",
    "tup = (1,2,3,4)\n",
    "tup[0]"
   ]
  },
  {
   "cell_type": "code",
   "execution_count": 91,
   "metadata": {},
   "outputs": [
    {
     "ename": "TypeError",
     "evalue": "'tuple' object does not support item assignment",
     "output_type": "error",
     "traceback": [
      "\u001b[1;31m---------------------------------------------------------------------------\u001b[0m",
      "\u001b[1;31mTypeError\u001b[0m                                 Traceback (most recent call last)",
      "Cell \u001b[1;32mIn[91], line 1\u001b[0m\n\u001b[1;32m----> 1\u001b[0m \u001b[43mtup\u001b[49m\u001b[43m[\u001b[49m\u001b[38;5;241;43m0\u001b[39;49m\u001b[43m]\u001b[49m \u001b[38;5;241m=\u001b[39m \u001b[38;5;124m\"\u001b[39m\u001b[38;5;124ma\u001b[39m\u001b[38;5;124m\"\u001b[39m\n",
      "\u001b[1;31mTypeError\u001b[0m: 'tuple' object does not support item assignment"
     ]
    }
   ],
   "source": [
    "tup[0] = \"a\"      # it will return an error because tuple is immutable , which means elements once created cant be changed"
   ]
  },
  {
   "cell_type": "code",
   "execution_count": 92,
   "metadata": {},
   "outputs": [
    {
     "name": "stdout",
     "output_type": "stream",
     "text": [
      "1\n",
      "1.4\n",
      "(2+3j)\n",
      "True\n",
      "cricket\n"
     ]
    }
   ],
   "source": [
    "# ITERATION\n",
    "\n",
    "# LIST\n",
    "\n",
    "lis = [1,1.4,2+3j,True,'cricket']\n",
    "for i in lis:\n",
    "    print(i)"
   ]
  },
  {
   "cell_type": "code",
   "execution_count": 93,
   "metadata": {},
   "outputs": [
    {
     "name": "stdout",
     "output_type": "stream",
     "text": [
      "90\n",
      "33.33\n",
      "hello\n",
      "bye\n",
      "False\n"
     ]
    }
   ],
   "source": [
    "# TUPLE\n",
    "\n",
    "tup = (90,33.33,'hello','bye',False)\n",
    "for i in tup:\n",
    "    print(i)"
   ]
  },
  {
   "cell_type": "code",
   "execution_count": 94,
   "metadata": {},
   "outputs": [
    {
     "data": {
      "text/plain": [
       "[1, 1.4, (2+3j)]"
      ]
     },
     "execution_count": 94,
     "metadata": {},
     "output_type": "execute_result"
    }
   ],
   "source": [
    "# SLICING\n",
    "\n",
    "# LIST\n",
    "\n",
    "lis = [1,1.4,2+3j,True,'cricket']\n",
    "lis[0:3]"
   ]
  },
  {
   "cell_type": "code",
   "execution_count": 95,
   "metadata": {},
   "outputs": [
    {
     "data": {
      "text/plain": [
       "(33.33, 'hello', 'bye')"
      ]
     },
     "execution_count": 95,
     "metadata": {},
     "output_type": "execute_result"
    }
   ],
   "source": [
    "# TUPLE\n",
    "\n",
    "tup = (90,33.33,'hello','bye',False)\n",
    "tup[1:4]"
   ]
  },
  {
   "cell_type": "markdown",
   "metadata": {},
   "source": [
    " - In summary, lists are mutable, while tuples are immutable. Lists are used for dynamic data, while tuples are used for static data. Lists provide flexibility, while tuples offer performance benefits and data integrity guarantees. "
   ]
  },
  {
   "cell_type": "markdown",
   "metadata": {},
   "source": []
  },
  {
   "cell_type": "markdown",
   "metadata": {},
   "source": [
    "### Q5) Describe key features of sets and provide examples of their use."
   ]
  },
  {
   "cell_type": "markdown",
   "metadata": {},
   "source": [
    "- Sets in python are unordered and unique collection of elements, sets doesn't allow duplicate elements. as sets are unordered collection of elements , hence no concept of indexing. we can define sets in a more confined way as Sets in Python are unordered collections of unique elements. They are defined using curly braces {}, or you can create a set using the set() constructor. Sets are useful for various operations such as checking for membership, removing duplicates from a sequence, and performing mathematical set operations like union, intersection, and difference.\n",
    "\n",
    "\n",
    "- Some Key features of sets in Python:\n",
    "\n",
    "\n",
    "- Uniqueness: Sets contain only unique elements. If you try to add a duplicate element to a set, it will be ignored.\n",
    "\n",
    "- Unorderedness: Sets are unordered, meaning the elements are not stored in any particular order. This also means that sets do not support indexing or slicing.\n",
    "\n",
    "- Mutability: Sets are mutable, meaning you can add or remove elements after the set is created.\n",
    "\n",
    "- Membership Testing: Sets provide fast membership testing. You can quickly check if an element is present in a set using the in keyword."
   ]
  },
  {
   "cell_type": "code",
   "execution_count": 101,
   "metadata": {},
   "outputs": [],
   "source": [
    "# UNIQUENESS\n",
    "\n",
    "set1 = {1,1,1,1,2,2,2,2,3,3,4,4,5,5,6,7,7,88,88,99,99,'day','day','day'}"
   ]
  },
  {
   "cell_type": "code",
   "execution_count": 102,
   "metadata": {},
   "outputs": [
    {
     "data": {
      "text/plain": [
       "{1, 2, 3, 4, 5, 6, 7, 88, 99, 'day'}"
      ]
     },
     "execution_count": 102,
     "metadata": {},
     "output_type": "execute_result"
    }
   ],
   "source": [
    "set1         # while executing set will return unique elements"
   ]
  },
  {
   "cell_type": "code",
   "execution_count": 103,
   "metadata": {},
   "outputs": [],
   "source": [
    "# UNORDEREDNESS\n",
    "\n",
    "set2 = {55,49,21,43,98,76,33,101,44,44}"
   ]
  },
  {
   "cell_type": "code",
   "execution_count": 104,
   "metadata": {},
   "outputs": [
    {
     "data": {
      "text/plain": [
       "{21, 33, 43, 44, 49, 55, 76, 98, 101}"
      ]
     },
     "execution_count": 104,
     "metadata": {},
     "output_type": "execute_result"
    }
   ],
   "source": [
    "set2            # after execution we can see that result of elements is in a different order , unlike we put them in.(unordered)"
   ]
  },
  {
   "cell_type": "code",
   "execution_count": 105,
   "metadata": {},
   "outputs": [],
   "source": [
    "# MUTABILITY\n",
    "\n",
    "set3 = {'apple','pineapple','coconut','banana','mango','guava'}"
   ]
  },
  {
   "cell_type": "code",
   "execution_count": 106,
   "metadata": {},
   "outputs": [
    {
     "data": {
      "text/plain": [
       "{'apple', 'banana', 'coconut', 'guava', 'mango', 'pineapple'}"
      ]
     },
     "execution_count": 106,
     "metadata": {},
     "output_type": "execute_result"
    }
   ],
   "source": [
    "set3"
   ]
  },
  {
   "cell_type": "code",
   "execution_count": 107,
   "metadata": {},
   "outputs": [],
   "source": [
    "# adding cherry to the set : add()\n",
    "\n",
    "set3.add(\"cherry\")             # it will add cherry to the set, hence modified, hence mutable"
   ]
  },
  {
   "cell_type": "code",
   "execution_count": 108,
   "metadata": {},
   "outputs": [
    {
     "data": {
      "text/plain": [
       "{'apple', 'banana', 'cherry', 'coconut', 'guava', 'mango', 'pineapple'}"
      ]
     },
     "execution_count": 108,
     "metadata": {},
     "output_type": "execute_result"
    }
   ],
   "source": [
    "set3"
   ]
  },
  {
   "cell_type": "code",
   "execution_count": 109,
   "metadata": {},
   "outputs": [
    {
     "data": {
      "text/plain": [
       "{'apple', 'banana', 'cherry', 'coconut', 'guava', 'mango', 'pineapple'}"
      ]
     },
     "execution_count": 109,
     "metadata": {},
     "output_type": "execute_result"
    }
   ],
   "source": [
    "# removing an element : pop()\n",
    "\n",
    "set3"
   ]
  },
  {
   "cell_type": "code",
   "execution_count": 111,
   "metadata": {},
   "outputs": [
    {
     "data": {
      "text/plain": [
       "'cherry'"
      ]
     },
     "execution_count": 111,
     "metadata": {},
     "output_type": "execute_result"
    }
   ],
   "source": [
    "set3.pop()     # pop() removes the random element from the set"
   ]
  },
  {
   "cell_type": "code",
   "execution_count": 112,
   "metadata": {},
   "outputs": [
    {
     "data": {
      "text/plain": [
       "{'apple', 'banana', 'guava', 'mango', 'pineapple'}"
      ]
     },
     "execution_count": 112,
     "metadata": {},
     "output_type": "execute_result"
    }
   ],
   "source": [
    "set3"
   ]
  },
  {
   "cell_type": "code",
   "execution_count": 113,
   "metadata": {},
   "outputs": [
    {
     "data": {
      "text/plain": [
       "{'apple', 'banana', 'guava', 'mango', 'pineapple'}"
      ]
     },
     "execution_count": 113,
     "metadata": {},
     "output_type": "execute_result"
    }
   ],
   "source": [
    "# removing an element using : remove()\n",
    "\n",
    "set3"
   ]
  },
  {
   "cell_type": "code",
   "execution_count": 116,
   "metadata": {},
   "outputs": [],
   "source": [
    "set3.remove(\"mango\")       # remove() removes the particular element that you mention in the parenthesis"
   ]
  },
  {
   "cell_type": "code",
   "execution_count": 117,
   "metadata": {},
   "outputs": [
    {
     "data": {
      "text/plain": [
       "{'apple', 'banana', 'guava', 'pineapple'}"
      ]
     },
     "execution_count": 117,
     "metadata": {},
     "output_type": "execute_result"
    }
   ],
   "source": [
    "set3"
   ]
  },
  {
   "cell_type": "code",
   "execution_count": 118,
   "metadata": {},
   "outputs": [
    {
     "data": {
      "text/plain": [
       "{'apple', 'banana', 'guava', 'pineapple'}"
      ]
     },
     "execution_count": 118,
     "metadata": {},
     "output_type": "execute_result"
    }
   ],
   "source": [
    "# updating a set : update()\n",
    "\n",
    "set3"
   ]
  },
  {
   "cell_type": "code",
   "execution_count": 119,
   "metadata": {},
   "outputs": [],
   "source": [
    "set3.update(\"ball\")       # it will return ball as 'b' 'a' l'l ' in a set"
   ]
  },
  {
   "cell_type": "code",
   "execution_count": 120,
   "metadata": {},
   "outputs": [
    {
     "data": {
      "text/plain": [
       "{'a', 'apple', 'b', 'banana', 'guava', 'l', 'pineapple'}"
      ]
     },
     "execution_count": 120,
     "metadata": {},
     "output_type": "execute_result"
    }
   ],
   "source": [
    "set3"
   ]
  },
  {
   "cell_type": "code",
   "execution_count": 121,
   "metadata": {},
   "outputs": [
    {
     "data": {
      "text/plain": [
       "{'a', 'apple', 'b', 'banana', 'guava', 'l', 'pineapple'}"
      ]
     },
     "execution_count": 121,
     "metadata": {},
     "output_type": "execute_result"
    }
   ],
   "source": [
    "# updating a set : update item as 1 item : update([])\n",
    "\n",
    "set3"
   ]
  },
  {
   "cell_type": "code",
   "execution_count": 122,
   "metadata": {},
   "outputs": [],
   "source": [
    "set3.update([\"ball\"])      # returns 'ball' as one element"
   ]
  },
  {
   "cell_type": "code",
   "execution_count": 123,
   "metadata": {},
   "outputs": [
    {
     "data": {
      "text/plain": [
       "{'a', 'apple', 'b', 'ball', 'banana', 'guava', 'l', 'pineapple'}"
      ]
     },
     "execution_count": 123,
     "metadata": {},
     "output_type": "execute_result"
    }
   ],
   "source": [
    "set3"
   ]
  },
  {
   "cell_type": "code",
   "execution_count": 124,
   "metadata": {},
   "outputs": [
    {
     "data": {
      "text/plain": [
       "{'a', 'apple', 'b', 'ball', 'banana', 'guava', 'l', 'pineapple'}"
      ]
     },
     "execution_count": 124,
     "metadata": {},
     "output_type": "execute_result"
    }
   ],
   "source": [
    "# MEMBERSHIP IN SET : in , not in\n",
    "\n",
    "set3"
   ]
  },
  {
   "cell_type": "code",
   "execution_count": 125,
   "metadata": {},
   "outputs": [
    {
     "data": {
      "text/plain": [
       "True"
      ]
     },
     "execution_count": 125,
     "metadata": {},
     "output_type": "execute_result"
    }
   ],
   "source": [
    "'ball' in set3"
   ]
  },
  {
   "cell_type": "code",
   "execution_count": 126,
   "metadata": {},
   "outputs": [
    {
     "data": {
      "text/plain": [
       "False"
      ]
     },
     "execution_count": 126,
     "metadata": {},
     "output_type": "execute_result"
    }
   ],
   "source": [
    "'ball' not in set3"
   ]
  },
  {
   "cell_type": "code",
   "execution_count": null,
   "metadata": {},
   "outputs": [],
   "source": []
  },
  {
   "cell_type": "markdown",
   "metadata": {},
   "source": [
    "### Q6) Discuss the use cases of tuples and sets in python programming."
   ]
  },
  {
   "cell_type": "markdown",
   "metadata": {},
   "source": [
    "- Tuples are ordered collection of elements, tuples can store heterogeneous data , tuples are immutable which means we can not modify them.\n",
    "- Sets in python are unordered and unique collection of elements, sets doesn't allow duplicate elements. as sets are unordered collection of elements , hence no concept of indexing.\n",
    "\n",
    "\n",
    "- Tuples and sets are both useful data structures in Python, each with its own set of use cases.\n",
    "\n",
    "\n",
    "- Use Cases of Tuples:\n",
    "\n",
    "- Immutable Data Storage: Tuples are often used to store collections of data where the order and elements are fixed and should not be changed. For example, representing coordinates (x, y)\n",
    "- Returning Multiple Values: Functions can return multiple values as a tuple, which can then be easily unpacked by the caller. This is useful when a function needs to return more than one value.\n",
    "- Dictionary Keys: Tuples can be used as keys in dictionaries because they are immutable.  (keys in dictionaries can not be mutable)\n",
    "\n",
    "\n",
    "\n",
    "- Use Cases of Sets:\n",
    "\n",
    "- Removing Duplicates: Sets are useful for removing duplicate elements from a collection efficiently.\n",
    "- Membership Testing: Sets provide fast membership testing. You can quickly check if an element is present in a set using the in keyword.\n",
    "- Mathematical Set Operations: Sets support various mathematical operations such as union, intersection, and difference. These operations can be used for data manipulation and analysis.\n",
    "\n",
    "\n",
    "Below are some examples for usecases of both tuples and sets:"
   ]
  },
  {
   "cell_type": "code",
   "execution_count": 130,
   "metadata": {},
   "outputs": [
    {
     "data": {
      "text/plain": [
       "('david', 'noah', 'jesus', 'aaron', 1, 2.7, (3+8j))"
      ]
     },
     "execution_count": 130,
     "metadata": {},
     "output_type": "execute_result"
    }
   ],
   "source": [
    "######### TUPLES ##########\n",
    "\n",
    "tuple1 = (\"david\",\"noah\",\"jesus\",\"aaron\", 1, 2.7, 3+8j)\n",
    "tuple1"
   ]
  },
  {
   "cell_type": "code",
   "execution_count": 131,
   "metadata": {},
   "outputs": [
    {
     "data": {
      "text/plain": [
       "'david'"
      ]
     },
     "execution_count": 131,
     "metadata": {},
     "output_type": "execute_result"
    }
   ],
   "source": [
    "# as sets are immutable, let's still stry to change an element\n",
    "\n",
    "tuple1[0]"
   ]
  },
  {
   "cell_type": "code",
   "execution_count": 132,
   "metadata": {},
   "outputs": [
    {
     "ename": "TypeError",
     "evalue": "'tuple' object does not support item assignment",
     "output_type": "error",
     "traceback": [
      "\u001b[1;31m---------------------------------------------------------------------------\u001b[0m",
      "\u001b[1;31mTypeError\u001b[0m                                 Traceback (most recent call last)",
      "Cell \u001b[1;32mIn[132], line 1\u001b[0m\n\u001b[1;32m----> 1\u001b[0m \u001b[43mtuple1\u001b[49m\u001b[43m[\u001b[49m\u001b[38;5;241;43m0\u001b[39;49m\u001b[43m]\u001b[49m \u001b[38;5;241m=\u001b[39m \u001b[38;5;124m\"\u001b[39m\u001b[38;5;124misaac\u001b[39m\u001b[38;5;124m\"\u001b[39m\n",
      "\u001b[1;31mTypeError\u001b[0m: 'tuple' object does not support item assignment"
     ]
    }
   ],
   "source": [
    "tuple1[0] = \"isaac\"   # returns an error as tuple is immutable data structure"
   ]
  },
  {
   "cell_type": "code",
   "execution_count": 133,
   "metadata": {},
   "outputs": [
    {
     "data": {
      "text/plain": [
       "{(1, 2): 'africa'}"
      ]
     },
     "execution_count": 133,
     "metadata": {},
     "output_type": "execute_result"
    }
   ],
   "source": [
    "# tuples used as dictionary keys\n",
    "\n",
    "d = {(1,2):\"africa\"}      # as tuples are immutable , keys in dict can be none other than immutable objects\n",
    "d"
   ]
  },
  {
   "cell_type": "code",
   "execution_count": 134,
   "metadata": {},
   "outputs": [
    {
     "data": {
      "text/plain": [
       "dict"
      ]
     },
     "execution_count": 134,
     "metadata": {},
     "output_type": "execute_result"
    }
   ],
   "source": [
    "type(d)"
   ]
  },
  {
   "cell_type": "code",
   "execution_count": 135,
   "metadata": {},
   "outputs": [],
   "source": [
    "# let's try tuple as a dictionary value\n",
    "\n",
    "d1 = {'abc':(123,234)}     # tuple as a value in dict can be used"
   ]
  },
  {
   "cell_type": "code",
   "execution_count": 136,
   "metadata": {},
   "outputs": [
    {
     "data": {
      "text/plain": [
       "{'abc': (123, 234)}"
      ]
     },
     "execution_count": 136,
     "metadata": {},
     "output_type": "execute_result"
    }
   ],
   "source": [
    "d1"
   ]
  },
  {
   "cell_type": "code",
   "execution_count": 137,
   "metadata": {},
   "outputs": [],
   "source": [
    "########## SETS ##########\n",
    "\n",
    "# REMOVES DUPLICATES (returning only unique)\n",
    "\n",
    "sett = {1,1,1,1,3,3,4,4,\"bag\",\"bag\",\"bag\"}"
   ]
  },
  {
   "cell_type": "code",
   "execution_count": 138,
   "metadata": {},
   "outputs": [
    {
     "data": {
      "text/plain": [
       "{1, 3, 4, 'bag'}"
      ]
     },
     "execution_count": 138,
     "metadata": {},
     "output_type": "execute_result"
    }
   ],
   "source": [
    "sett                  # regardless of how many times an element is repeated while defining a set, after execution it will return only unique elements and removes duplicates."
   ]
  },
  {
   "cell_type": "code",
   "execution_count": 142,
   "metadata": {},
   "outputs": [
    {
     "data": {
      "text/plain": [
       "True"
      ]
     },
     "execution_count": 142,
     "metadata": {},
     "output_type": "execute_result"
    }
   ],
   "source": [
    "# MEMBERSHIP TESTING: in , not in\n",
    "\n",
    "# in\n",
    "\n",
    "fruits = {'mango','banana','orange','berry'}\n",
    "\n",
    "'berry' in fruits"
   ]
  },
  {
   "cell_type": "code",
   "execution_count": 143,
   "metadata": {},
   "outputs": [
    {
     "data": {
      "text/plain": [
       "{'banana', 'berry', 'mango', 'orange'}"
      ]
     },
     "execution_count": 143,
     "metadata": {},
     "output_type": "execute_result"
    }
   ],
   "source": [
    "# not in\n",
    "\n",
    "fruits"
   ]
  },
  {
   "cell_type": "code",
   "execution_count": 144,
   "metadata": {},
   "outputs": [
    {
     "data": {
      "text/plain": [
       "True"
      ]
     },
     "execution_count": 144,
     "metadata": {},
     "output_type": "execute_result"
    }
   ],
   "source": [
    "'carrot' not in fruits"
   ]
  },
  {
   "cell_type": "code",
   "execution_count": 147,
   "metadata": {},
   "outputs": [],
   "source": [
    "# MATHEMATICAL SET OPERTAIONS:\n",
    "\n",
    "s1 = {\"singing\",\"dancing\",\"playing\"}\n",
    "s2 = {\"travelling\",\"playing\",\"trekking\"}"
   ]
  },
  {
   "cell_type": "code",
   "execution_count": 148,
   "metadata": {},
   "outputs": [
    {
     "data": {
      "text/plain": [
       "{'dancing', 'playing', 'singing', 'travelling', 'trekking'}"
      ]
     },
     "execution_count": 148,
     "metadata": {},
     "output_type": "execute_result"
    }
   ],
   "source": [
    "# UNION:(combines elements from two sets and excludes duplicates)\n",
    "\n",
    "s1|s2"
   ]
  },
  {
   "cell_type": "code",
   "execution_count": 154,
   "metadata": {},
   "outputs": [
    {
     "data": {
      "text/plain": [
       "{'playing'}"
      ]
     },
     "execution_count": 154,
     "metadata": {},
     "output_type": "execute_result"
    }
   ],
   "source": [
    "# INTERSECTION:(only common elements between sets)\n",
    "\n",
    "s1&s2"
   ]
  },
  {
   "cell_type": "code",
   "execution_count": 152,
   "metadata": {},
   "outputs": [
    {
     "data": {
      "text/plain": [
       "{'dancing', 'singing'}"
      ]
     },
     "execution_count": 152,
     "metadata": {},
     "output_type": "execute_result"
    }
   ],
   "source": [
    "# DIFFERENCE:(returns the element that is present in first set but not in second set)\n",
    "\n",
    "s1-s2"
   ]
  },
  {
   "cell_type": "code",
   "execution_count": 151,
   "metadata": {},
   "outputs": [
    {
     "data": {
      "text/plain": [
       "{'dancing', 'singing', 'travelling', 'trekking'}"
      ]
     },
     "execution_count": 151,
     "metadata": {},
     "output_type": "execute_result"
    }
   ],
   "source": [
    "# SYMMETRIC DIFFERENCE:(returns the elements which are not common in both the sets)\n",
    "\n",
    "s1^s2"
   ]
  },
  {
   "cell_type": "code",
   "execution_count": null,
   "metadata": {},
   "outputs": [],
   "source": []
  },
  {
   "cell_type": "markdown",
   "metadata": {},
   "source": [
    "### Q7) Describe how to add, modify and delete items in a dictionary with examples."
   ]
  },
  {
   "cell_type": "markdown",
   "metadata": {},
   "source": [
    "- In Python, a dictionary is a data structure used to store collections of items as key-value pairs. dictionaries are defined using curly braces {}, and each key-value pair is separated by a colon :. Keys must be unique within a dictionary, but values can be duplicated.\n",
    "\n",
    "\n",
    "- Adding items:\n",
    "- To add a new item to a dictionary, you simply assign a value to a new key. If the key already exists, its value will be overwritten with the new value. If the key doesn't exist, a new key-value pair will be created.\n",
    "\n",
    "\n",
    "- Modifying items:\n",
    "- To modify the value of an existing key in a dictionary, simply assign a new value to that key.\n",
    "\n",
    "\n",
    "- Deleting items:\n",
    "- items can be deleted from a dictionary using the del keyword or the pop() method. Using del removes the specified key-value pair from the dictionary, while pop() removes the item with the specified key and returns its value.\n",
    "\n",
    "\n",
    "Below are the examples to illustrate the following:"
   ]
  },
  {
   "cell_type": "code",
   "execution_count": 156,
   "metadata": {},
   "outputs": [
    {
     "data": {
      "text/plain": [
       "{'name': 'zamin', 'email': 'zaminqazi@gmail.com', 'contact': 990298}"
      ]
     },
     "execution_count": 156,
     "metadata": {},
     "output_type": "execute_result"
    }
   ],
   "source": [
    "d = {'name':'zamin','email':'zaminqazi@gmail.com','contact':990298}\n",
    "d"
   ]
  },
  {
   "cell_type": "code",
   "execution_count": 157,
   "metadata": {},
   "outputs": [],
   "source": [
    "# ADDING ITEMS IN A DICTIONARY\n",
    "# to create a new key value pair\n",
    "\n",
    "d['address'] = 'jammu and kashmir'      # will create a new key value pair in an existing dictinary"
   ]
  },
  {
   "cell_type": "code",
   "execution_count": 158,
   "metadata": {},
   "outputs": [
    {
     "data": {
      "text/plain": [
       "{'name': 'zamin',\n",
       " 'email': 'zaminqazi@gmail.com',\n",
       " 'contact': 990298,\n",
       " 'address': 'jammu and kashmir'}"
      ]
     },
     "execution_count": 158,
     "metadata": {},
     "output_type": "execute_result"
    }
   ],
   "source": [
    "d"
   ]
  },
  {
   "cell_type": "code",
   "execution_count": 159,
   "metadata": {},
   "outputs": [],
   "source": [
    "# MODIFYING ITEMS IN A DICTIONARY\n",
    "# to overwrite a key value pair\n",
    "\n",
    "d = {'name':'zamin','email':'zaminqazi@gmail.com','contact':990298, 'name':'qazi'}    # 'name' key with new value will overwrite the previous value"
   ]
  },
  {
   "cell_type": "code",
   "execution_count": 160,
   "metadata": {},
   "outputs": [
    {
     "data": {
      "text/plain": [
       "{'name': 'qazi', 'email': 'zaminqazi@gmail.com', 'contact': 990298}"
      ]
     },
     "execution_count": 160,
     "metadata": {},
     "output_type": "execute_result"
    }
   ],
   "source": [
    "d"
   ]
  },
  {
   "cell_type": "code",
   "execution_count": 161,
   "metadata": {},
   "outputs": [
    {
     "data": {
      "text/plain": [
       "{'name': 'qazi', 'email': 'zaminqazi@gmail.com', 'contact': 990298}"
      ]
     },
     "execution_count": 161,
     "metadata": {},
     "output_type": "execute_result"
    }
   ],
   "source": [
    "# TO UPDATE A DICTIONARY WITH OTHER DICTIONARY\n",
    "\n",
    "d"
   ]
  },
  {
   "cell_type": "code",
   "execution_count": 162,
   "metadata": {},
   "outputs": [],
   "source": [
    "d1 = {'course':'data science'}       # will update a new key value pair in an existing dictionary"
   ]
  },
  {
   "cell_type": "code",
   "execution_count": 163,
   "metadata": {},
   "outputs": [],
   "source": [
    "d.update(d1)"
   ]
  },
  {
   "cell_type": "code",
   "execution_count": 164,
   "metadata": {},
   "outputs": [
    {
     "data": {
      "text/plain": [
       "{'name': 'qazi',\n",
       " 'email': 'zaminqazi@gmail.com',\n",
       " 'contact': 990298,\n",
       " 'course': 'data science'}"
      ]
     },
     "execution_count": 164,
     "metadata": {},
     "output_type": "execute_result"
    }
   ],
   "source": [
    "d"
   ]
  },
  {
   "cell_type": "code",
   "execution_count": 165,
   "metadata": {},
   "outputs": [
    {
     "data": {
      "text/plain": [
       "{'name': 'qazi',\n",
       " 'email': 'zaminqazi@gmail.com',\n",
       " 'contact': 990298,\n",
       " 'course': 'data science'}"
      ]
     },
     "execution_count": 165,
     "metadata": {},
     "output_type": "execute_result"
    }
   ],
   "source": [
    "# to clear the dictionary\n",
    "\n",
    "d"
   ]
  },
  {
   "cell_type": "code",
   "execution_count": 166,
   "metadata": {},
   "outputs": [],
   "source": [
    "d.clear()      # will return an empty dict"
   ]
  },
  {
   "cell_type": "code",
   "execution_count": 167,
   "metadata": {},
   "outputs": [
    {
     "data": {
      "text/plain": [
       "{}"
      ]
     },
     "execution_count": 167,
     "metadata": {},
     "output_type": "execute_result"
    }
   ],
   "source": [
    "d"
   ]
  },
  {
   "cell_type": "code",
   "execution_count": 169,
   "metadata": {},
   "outputs": [],
   "source": [
    "# DELETING ITEMS IN A DICTIONARY\n",
    "# remove the specified key-value pair from the dictionary: del()\n",
    "\n",
    "d = {'name':'zamin','email':'zaminqazi@gmail.com','contact':990298} "
   ]
  },
  {
   "cell_type": "code",
   "execution_count": 170,
   "metadata": {},
   "outputs": [
    {
     "data": {
      "text/plain": [
       "{'name': 'zamin', 'email': 'zaminqazi@gmail.com', 'contact': 990298}"
      ]
     },
     "execution_count": 170,
     "metadata": {},
     "output_type": "execute_result"
    }
   ],
   "source": [
    "d"
   ]
  },
  {
   "cell_type": "code",
   "execution_count": 171,
   "metadata": {},
   "outputs": [],
   "source": [
    "del d['contact']         # will delete this specific key value pair from the dictionary"
   ]
  },
  {
   "cell_type": "code",
   "execution_count": 172,
   "metadata": {},
   "outputs": [
    {
     "data": {
      "text/plain": [
       "{'name': 'zamin', 'email': 'zaminqazi@gmail.com'}"
      ]
     },
     "execution_count": 172,
     "metadata": {},
     "output_type": "execute_result"
    }
   ],
   "source": [
    "d"
   ]
  },
  {
   "cell_type": "code",
   "execution_count": 173,
   "metadata": {},
   "outputs": [],
   "source": [
    "# remove the item with the specified key and returns its value: pop()\n",
    "\n",
    "d = {'name':'zamin','email':'zaminqazi@gmail.com','contact':990298}"
   ]
  },
  {
   "cell_type": "code",
   "execution_count": 174,
   "metadata": {},
   "outputs": [
    {
     "data": {
      "text/plain": [
       "{'name': 'zamin', 'email': 'zaminqazi@gmail.com', 'contact': 990298}"
      ]
     },
     "execution_count": 174,
     "metadata": {},
     "output_type": "execute_result"
    }
   ],
   "source": [
    "d"
   ]
  },
  {
   "cell_type": "code",
   "execution_count": 175,
   "metadata": {},
   "outputs": [
    {
     "data": {
      "text/plain": [
       "'zaminqazi@gmail.com'"
      ]
     },
     "execution_count": 175,
     "metadata": {},
     "output_type": "execute_result"
    }
   ],
   "source": [
    "d.pop('email')       # will remove the particular item & return it's value when executed"
   ]
  },
  {
   "cell_type": "code",
   "execution_count": 176,
   "metadata": {},
   "outputs": [
    {
     "data": {
      "text/plain": [
       "{'name': 'zamin', 'contact': 990298}"
      ]
     },
     "execution_count": 176,
     "metadata": {},
     "output_type": "execute_result"
    }
   ],
   "source": [
    "d"
   ]
  },
  {
   "cell_type": "code",
   "execution_count": null,
   "metadata": {},
   "outputs": [],
   "source": []
  },
  {
   "cell_type": "markdown",
   "metadata": {},
   "source": [
    "### Q8) Discuss the importance of dictionary keys being immutable and provide examples."
   ]
  },
  {
   "cell_type": "markdown",
   "metadata": {},
   "source": [
    "-  In Python, dictionary keys are unique identifiers for the values stored in a dictionary. Keys must be immutable objects, which means they cannot be changed once they are created. simply we can say dictionary keys in Python are unique, immutable objects used to identify values stored in a dictionary. They play a crucial role in efficiently organizing and accessing data in dictionary-based data structures.\n",
    "\n",
    "\n",
    "- the immutability of dictionary keys is essential for the reliable and efficient operation of dictionaries in Python. It facilitates fast and consistent lookup, maintains data integrity, and ensures the stability of dictionary-based data structures. the immutability of dictionary keys ensures consistency, integrity, efficient lookup, and reliable data mapping in Python dictionaries. It is an essential feature that contributes to the reliability and performance of dictionary-based data structures.\n",
    "\n",
    "- Consistency and Integrity:\n",
    "- Immutability ensures that once a key is added to a dictionary, its value cannot be changed. This guarantees the consistency and integrity of the dictionary's keys, preventing accidental modifications that could lead to unexpected behavior or data corruption.\n",
    "\n",
    "- Hashability:\n",
    "- Dictionary keys must be hashable objects, meaning they must have a consistent hash value throughout their lifetime. Immutable objects such as strings, numbers, and tuples are hashable, while mutable objects such as lists and dictionaries are not. This ensures that dictionary keys can be efficiently stored and retrieved based on their hash values.\n",
    "- (\"hashable\" refers to an object's ability to be hashed. Hashing is a process that takes an input (often referred to as the \"key\") and produces a fixed-size string of bytes, which is typically used to uniquely identify the input.)\n",
    "\n",
    "- Efficient Lookup:\n",
    "- Immutable keys enable efficient lookup operations in dictionaries. Since the hash value of an immutable object remains constant, the dictionary can quickly determine the location of the key's corresponding value in memory, resulting in fast retrieval times even for large dictionaries.\n",
    "\n",
    "- Dictionary Integrity:\n",
    "- If dictionary keys were mutable, modifying a key after it has been added to the dictionary could potentially disrupt the internal structure of the dictionary, leading to inconsistencies or errors in key-value mapping. Immutability ensures the integrity of the dictionary's structure, maintaining the mapping between keys and values intact."
   ]
  },
  {
   "cell_type": "code",
   "execution_count": 178,
   "metadata": {},
   "outputs": [],
   "source": [
    "# Example\n",
    "\n",
    "d = {\"name\":\"zamin\",\"email\":\"zaminqazi@gmail.com\",\"contact\":9682359228}\n",
    "\n",
    "# if we want to change the value of the key, it is possible\n",
    "\n",
    "d[\"name\"] = \"Qazi\"      # changing value of name to \"Qazi\""
   ]
  },
  {
   "cell_type": "code",
   "execution_count": 179,
   "metadata": {},
   "outputs": [
    {
     "data": {
      "text/plain": [
       "{'name': 'Qazi', 'email': 'zaminqazi@gmail.com', 'contact': 9682359228}"
      ]
     },
     "execution_count": 179,
     "metadata": {},
     "output_type": "execute_result"
    }
   ],
   "source": [
    "d"
   ]
  },
  {
   "cell_type": "code",
   "execution_count": 180,
   "metadata": {},
   "outputs": [
    {
     "data": {
      "text/plain": [
       "'Qazi'"
      ]
     },
     "execution_count": 180,
     "metadata": {},
     "output_type": "execute_result"
    }
   ],
   "source": [
    "# CONSISTENCY AND INTEGRITY\n",
    "# if we want to see the name only from the dictionary , it will be easy just by accessing name key\n",
    "\n",
    "d[\"name\"]             # simply put the key , as key acts as an index of element in a dict"
   ]
  },
  {
   "cell_type": "code",
   "execution_count": 181,
   "metadata": {},
   "outputs": [
    {
     "ename": "TypeError",
     "evalue": "unhashable type: 'list'",
     "output_type": "error",
     "traceback": [
      "\u001b[1;31m---------------------------------------------------------------------------\u001b[0m",
      "\u001b[1;31mTypeError\u001b[0m                                 Traceback (most recent call last)",
      "Cell \u001b[1;32mIn[181], line 5\u001b[0m\n\u001b[0;32m      1\u001b[0m \u001b[38;5;66;03m# HASHABILITY\u001b[39;00m\n\u001b[0;32m      2\u001b[0m \n\u001b[0;32m      3\u001b[0m \u001b[38;5;66;03m# lets try list as a key (as we know lists are mutable and keys should be immutable)\u001b[39;00m\n\u001b[1;32m----> 5\u001b[0m d \u001b[38;5;241m=\u001b[39m {[\u001b[38;5;241m1\u001b[39m,\u001b[38;5;241m2\u001b[39m,\u001b[38;5;241m3\u001b[39m]:\u001b[38;5;124m\"\u001b[39m\u001b[38;5;124mpeter\u001b[39m\u001b[38;5;124m\"\u001b[39m}\n",
      "\u001b[1;31mTypeError\u001b[0m: unhashable type: 'list'"
     ]
    }
   ],
   "source": [
    "# HASHABILITY\n",
    "\n",
    "# lets try list as a key (as we know lists are mutable and keys should be immutable)\n",
    "\n",
    "d = {[1,2,3]:\"peter\"}          # ERROR : unhashable type , keys should be hashable , so any mutable thing cant be set as a key"
   ]
  },
  {
   "cell_type": "code",
   "execution_count": 182,
   "metadata": {},
   "outputs": [],
   "source": [
    "# now let's try tuple as a key (tuples are immutable so it should work)\n",
    "\n",
    "d = {(1,2,3):\"john\"}"
   ]
  },
  {
   "cell_type": "code",
   "execution_count": 183,
   "metadata": {},
   "outputs": [
    {
     "data": {
      "text/plain": [
       "'john'"
      ]
     },
     "execution_count": 183,
     "metadata": {},
     "output_type": "execute_result"
    }
   ],
   "source": [
    "d[(1,2,3)]           # tuples can be set as a key due to it's hashable nature"
   ]
  },
  {
   "cell_type": "code",
   "execution_count": null,
   "metadata": {},
   "outputs": [],
   "source": []
  },
  {
   "cell_type": "code",
   "execution_count": 193,
   "metadata": {},
   "outputs": [],
   "source": [
    "# EFFICIENT LOOKUP\n",
    "# immutable keys enable efficient lookup operations in dictionaries\n",
    "\n",
    "employee_record = {\n",
    "    'E001':{'name':'travis','department':'health science','salary':94500},\n",
    "    'E002':{'name':'will','department':'Radiology','salary':64500},\n",
    "    'E003':{'name':'mohan','department':'x-ray','salary':59500},\n",
    "    'E004':{'name':'nathan','department':'cyber security','salary':99000}\n",
    "}"
   ]
  },
  {
   "cell_type": "code",
   "execution_count": 194,
   "metadata": {},
   "outputs": [
    {
     "data": {
      "text/plain": [
       "{'name': 'travis', 'department': 'health science', 'salary': 94500}"
      ]
     },
     "execution_count": 194,
     "metadata": {},
     "output_type": "execute_result"
    }
   ],
   "source": [
    "# now if we want to look-up for the information about any employee , simply we will type the employee id and get details\n",
    "\n",
    "employee_record.get(\"E001\")"
   ]
  },
  {
   "cell_type": "code",
   "execution_count": 195,
   "metadata": {},
   "outputs": [
    {
     "data": {
      "text/plain": [
       "{'name': 'mohan', 'department': 'x-ray', 'salary': 59500}"
      ]
     },
     "execution_count": 195,
     "metadata": {},
     "output_type": "execute_result"
    }
   ],
   "source": [
    "employee_record.get(\"E003\")"
   ]
  }
 ],
 "metadata": {
  "kernelspec": {
   "display_name": "Python 3",
   "language": "python",
   "name": "python3"
  },
  "language_info": {
   "codemirror_mode": {
    "name": "ipython",
    "version": 3
   },
   "file_extension": ".py",
   "mimetype": "text/x-python",
   "name": "python",
   "nbconvert_exporter": "python",
   "pygments_lexer": "ipython3",
   "version": "3.11.9"
  }
 },
 "nbformat": 4,
 "nbformat_minor": 2
}
